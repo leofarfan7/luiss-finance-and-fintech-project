{
 "cells": [
  {
   "cell_type": "code",
   "id": "initial_id",
   "metadata": {
    "collapsed": true,
    "ExecuteTime": {
     "end_time": "2025-04-22T21:01:50.809619Z",
     "start_time": "2025-04-22T21:01:50.396839Z"
    }
   },
   "source": [
    "import numpy as np\n",
    "import yfinance as yf\n",
    "from tqdm import tqdm\n",
    "import os\n",
    "\n",
    "# tickers = [\"ORCL\", \"PIRC.MI\", \"AMZN\", \"MSFT\", \"GOOGL\", \"NVDA\", \"IBM\", \"5108.T\", \"CON.DE\", \"GT\", \"5101.T\"]\n",
    "tickers = [\"^GSPC\", \"^IXIC\", \"FTSEMIB.MI\", \"^NDX\", \"^STOXX\"]\n",
    "\n",
    "exchange_map = {\n",
    "        \"GER\": \"XETRA\",\n",
    "        \"NYQ\": \"NYSE\",\n",
    "        \"MIL\": \"Borsa Italiana\",\n",
    "        \"JPX\": \"JPX\",\n",
    "        \"NMS\": \"NASDAQ\",\n",
    "    }\n",
    "\n",
    "if not os.path.exists(\"data\"):\n",
    "    os.makedirs(\"data\")"
   ],
   "outputs": [],
   "execution_count": 1
  },
  {
   "metadata": {
    "ExecuteTime": {
     "end_time": "2025-04-22T21:01:54.452131Z",
     "start_time": "2025-04-22T21:01:51.221307Z"
    }
   },
   "cell_type": "code",
   "source": [
    "for tick in tqdm(tickers, total=len(tickers), desc=\"Downloading data\", unit=\"ticker\"):\n",
    "    ticker = yf.Ticker(tick)\n",
    "    data = ticker.history(period=\"10y\")\n",
    "    print(data.columns)\n",
    "    # data = data[[\"Open\", \"High\", \"Low\", \"Close\", \"Volume\"]]\n",
    "    ticker_currency = ticker.info[\"currency\"]\n",
    "    ticker_company_name = ticker.info[\"shortName\"]\n",
    "    ticker_exchange = ticker.info[\"exchange\"]\n",
    "    ticker_tz = ticker.info[\"exchangeTimezoneName\"]\n",
    "    \n",
    "    if data.index.tz is None:\n",
    "        data = data.tz_localize(\"UTC\")\n",
    "    data = data.tz_convert(ticker_tz)\n",
    "    data.index = data.index.normalize().tz_localize(None)\n",
    "    \n",
    "    data.columns = [f\"{col}_{ticker_currency}\" for col in data.columns]\n",
    "    if ticker_currency != \"USD\":\n",
    "        pair = f\"{ticker.info[\"currency\"]}USD=X\"\n",
    "        fx = yf.Ticker(pair)\n",
    "        fx_hist = fx.history(start=data.index.min(), end=data.index.max())\n",
    "        fx_tz = fx.info[\"exchangeTimezoneName\"]\n",
    "        if fx_hist.index.tz is None:\n",
    "            fx_hist = fx_hist.tz_localize(\"UTC\")\n",
    "        fx_hist = fx_hist.tz_convert(fx_tz)\n",
    "        fx_hist.index = fx_hist.index.normalize().tz_localize(None)\n",
    "        \n",
    "        fx_rate = fx_hist[[\"Close\"]].rename(columns={\"Close\": \"FX\"})\n",
    "        fx_rate = fx_rate.reindex(data.index, method=\"ffill\")\n",
    "        \n",
    "        data = data.join(fx_rate, how=\"left\")\n",
    "        data[\"FX\"] = data[\"FX\"].ffill()\n",
    "        \n",
    "        for side in (\"Open\",\"High\",\"Low\",\"Close\",\"Volume\"):\n",
    "            if side != \"Volume\":\n",
    "                data[f\"{side}_USD\"] = data[f\"{side}_{ticker_currency}\"] * data[\"FX\"]\n",
    "            else:\n",
    "                data[f\"{side}_USD\"] = np.int64(round(data[f\"{side}_{ticker_currency}\"] * data[\"FX\"]))\n",
    "    \n",
    "    data.to_csv(f\"data/{tick}_{ticker_exchange}_{ticker_company_name}.csv\")"
   ],
   "id": "f1aa252110287420",
   "outputs": [
    {
     "name": "stderr",
     "output_type": "stream",
     "text": [
      "Downloading data:   0%|          | 0/5 [00:00<?, ?ticker/s]"
     ]
    },
    {
     "name": "stdout",
     "output_type": "stream",
     "text": [
      "Index(['Open', 'High', 'Low', 'Close', 'Volume', 'Dividends', 'Stock Splits'], dtype='object')\n"
     ]
    },
    {
     "name": "stderr",
     "output_type": "stream",
     "text": [
      "Downloading data:  20%|██        | 1/5 [00:00<00:02,  1.39ticker/s]"
     ]
    },
    {
     "name": "stdout",
     "output_type": "stream",
     "text": [
      "Index(['Open', 'High', 'Low', 'Close', 'Volume', 'Dividends', 'Stock Splits'], dtype='object')\n"
     ]
    },
    {
     "name": "stderr",
     "output_type": "stream",
     "text": [
      "Downloading data:  40%|████      | 2/5 [00:01<00:01,  1.80ticker/s]"
     ]
    },
    {
     "name": "stdout",
     "output_type": "stream",
     "text": [
      "Index(['Open', 'High', 'Low', 'Close', 'Volume', 'Dividends', 'Stock Splits'], dtype='object')\n"
     ]
    },
    {
     "name": "stderr",
     "output_type": "stream",
     "text": [
      "Downloading data:  60%|██████    | 3/5 [00:02<00:01,  1.33ticker/s]"
     ]
    },
    {
     "name": "stdout",
     "output_type": "stream",
     "text": [
      "Index(['Open', 'High', 'Low', 'Close', 'Volume', 'Dividends', 'Stock Splits'], dtype='object')\n"
     ]
    },
    {
     "name": "stderr",
     "output_type": "stream",
     "text": [
      "Downloading data:  80%|████████  | 4/5 [00:02<00:00,  1.59ticker/s]"
     ]
    },
    {
     "name": "stdout",
     "output_type": "stream",
     "text": [
      "Index(['Open', 'High', 'Low', 'Close', 'Volume', 'Dividends', 'Stock Splits'], dtype='object')\n"
     ]
    },
    {
     "name": "stderr",
     "output_type": "stream",
     "text": [
      "Downloading data: 100%|██████████| 5/5 [00:03<00:00,  1.56ticker/s]\n"
     ]
    }
   ],
   "execution_count": 2
  },
  {
   "metadata": {},
   "cell_type": "code",
   "outputs": [],
   "execution_count": null,
   "source": "",
   "id": "1376470a24b5dbc7"
  }
 ],
 "metadata": {
  "kernelspec": {
   "display_name": "Python 3",
   "language": "python",
   "name": "python3"
  },
  "language_info": {
   "codemirror_mode": {
    "name": "ipython",
    "version": 2
   },
   "file_extension": ".py",
   "mimetype": "text/x-python",
   "name": "python",
   "nbconvert_exporter": "python",
   "pygments_lexer": "ipython2",
   "version": "2.7.6"
  }
 },
 "nbformat": 4,
 "nbformat_minor": 5
}
